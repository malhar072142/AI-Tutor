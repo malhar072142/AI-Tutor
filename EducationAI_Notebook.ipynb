{
  "nbformat": 4,
  "nbformat_minor": 0,
  "metadata": {
    "colab": {
      "provenance": []
    },
    "kernelspec": {
      "name": "python3",
      "display_name": "Python 3"
    },
    "language_info": {
      "name": "python"
    }
  },
  "cells": [
    {
      "cell_type": "markdown",
      "source": [
        "# EduacationAI\n"
      ],
      "metadata": {
        "id": "BAFsnbqy3lHK"
      }
    },
    {
      "cell_type": "markdown",
      "source": [
        "#### *`Author`*: Malhar  Ghogare"
      ],
      "metadata": {
        "id": "KDvJIEze3tYp"
      }
    },
    {
      "cell_type": "markdown",
      "source": [
        "### 1.1. Downloading Openai Python Dependencies"
      ],
      "metadata": {
        "id": "WMAZQSMJ3rTh"
      }
    },
    {
      "cell_type": "code",
      "execution_count": null,
      "metadata": {
        "colab": {
          "base_uri": "https://localhost:8080/",
          "height": 529
        },
        "id": "pTVfdm0klrco",
        "outputId": "a89781b7-9fab-4674-c408-452ca35a99e2"
      },
      "outputs": [
        {
          "output_type": "stream",
          "name": "stdout",
          "text": [
            "Collecting openai==0.28\n",
            "  Downloading openai-0.28.0-py3-none-any.whl.metadata (13 kB)\n",
            "Requirement already satisfied: requests>=2.20 in /usr/local/lib/python3.11/dist-packages (from openai==0.28) (2.32.3)\n",
            "Requirement already satisfied: tqdm in /usr/local/lib/python3.11/dist-packages (from openai==0.28) (4.67.1)\n",
            "Requirement already satisfied: aiohttp in /usr/local/lib/python3.11/dist-packages (from openai==0.28) (3.11.11)\n",
            "Requirement already satisfied: charset-normalizer<4,>=2 in /usr/local/lib/python3.11/dist-packages (from requests>=2.20->openai==0.28) (3.4.1)\n",
            "Requirement already satisfied: idna<4,>=2.5 in /usr/local/lib/python3.11/dist-packages (from requests>=2.20->openai==0.28) (3.10)\n",
            "Requirement already satisfied: urllib3<3,>=1.21.1 in /usr/local/lib/python3.11/dist-packages (from requests>=2.20->openai==0.28) (2.3.0)\n",
            "Requirement already satisfied: certifi>=2017.4.17 in /usr/local/lib/python3.11/dist-packages (from requests>=2.20->openai==0.28) (2024.12.14)\n",
            "Requirement already satisfied: aiohappyeyeballs>=2.3.0 in /usr/local/lib/python3.11/dist-packages (from aiohttp->openai==0.28) (2.4.4)\n",
            "Requirement already satisfied: aiosignal>=1.1.2 in /usr/local/lib/python3.11/dist-packages (from aiohttp->openai==0.28) (1.3.2)\n",
            "Requirement already satisfied: attrs>=17.3.0 in /usr/local/lib/python3.11/dist-packages (from aiohttp->openai==0.28) (24.3.0)\n",
            "Requirement already satisfied: frozenlist>=1.1.1 in /usr/local/lib/python3.11/dist-packages (from aiohttp->openai==0.28) (1.5.0)\n",
            "Requirement already satisfied: multidict<7.0,>=4.5 in /usr/local/lib/python3.11/dist-packages (from aiohttp->openai==0.28) (6.1.0)\n",
            "Requirement already satisfied: propcache>=0.2.0 in /usr/local/lib/python3.11/dist-packages (from aiohttp->openai==0.28) (0.2.1)\n",
            "Requirement already satisfied: yarl<2.0,>=1.17.0 in /usr/local/lib/python3.11/dist-packages (from aiohttp->openai==0.28) (1.18.3)\n",
            "Downloading openai-0.28.0-py3-none-any.whl (76 kB)\n",
            "\u001b[2K   \u001b[90m━━━━━━━━━━━━━━━━━━━━━━━━━━━━━━━━━━━━━━━━\u001b[0m \u001b[32m76.5/76.5 kB\u001b[0m \u001b[31m2.5 MB/s\u001b[0m eta \u001b[36m0:00:00\u001b[0m\n",
            "\u001b[?25hInstalling collected packages: openai\n",
            "  Attempting uninstall: openai\n",
            "    Found existing installation: openai 1.59.6\n",
            "    Uninstalling openai-1.59.6:\n",
            "      Successfully uninstalled openai-1.59.6\n",
            "Successfully installed openai-0.28.0\n"
          ]
        },
        {
          "output_type": "display_data",
          "data": {
            "application/vnd.colab-display-data+json": {
              "pip_warning": {
                "packages": [
                  "openai"
                ]
              },
              "id": "b8157decc85d441e9bd0adc2da608ed8"
            }
          },
          "metadata": {}
        }
      ],
      "source": [
        "!pip install openai==0.28\n"
      ]
    },
    {
      "cell_type": "markdown",
      "source": [
        "### Installing the OpenAI Python Library\n",
        "\n",
        "This cell installs the OpenAI Python library using `pip`. The library is required to interact with the OpenAI API, which will be used throughout this notebook for generating personalized learning plans, quiz questions, solving physics problems, and building a chatbot.\n"
      ],
      "metadata": {
        "id": "Bslim7Ha5Vav"
      }
    },
    {
      "cell_type": "markdown",
      "source": [
        "### 1.2. Initializing Student Profile"
      ],
      "metadata": {
        "id": "6wGEzjTQ4G5u"
      }
    },
    {
      "cell_type": "code",
      "source": [
        "student_profile = {\n",
        "    \"name\": \"Alex\",\n",
        "    \"grade\": \"10th\",\n",
        "    \"preferred_subjects\": [\"Math\", \"Science\"],\n",
        "    \"learning_goals\": [\"Improve algebra\", \"Physics concepts\"]\n",
        "}\n",
        "model_openai = \"gpt-4o\""
      ],
      "metadata": {
        "id": "pERza-rmoLH-"
      },
      "execution_count": null,
      "outputs": []
    },
    {
      "cell_type": "markdown",
      "source": [
        "### Defining the Student Profile and Model Configuration\n",
        "\n",
        "This cell initializes the **student profile** and specifies the OpenAI model to be used.\n",
        "\n",
        "- **Student Profile**:\n",
        "  - `name`: The name of the student (Alex).\n",
        "  - `grade`: Alex is in the 10th grade.\n",
        "  - `preferred_subjects`: The subjects Alex prefers to focus on, which are Math and Science.\n",
        "  - `learning_goals`: Alex's specific learning goals, which include improving algebra skills and understanding physics concepts.\n",
        "\n",
        "- **Model Configuration**:\n",
        "  - `model_openai`: Specifies the OpenAI model to be used. In this case, it's set to `\"gpt-4o\"`.\n",
        "\n",
        "This profile and model will be used throughout the notebook to generate personalized outputs tailored to Alex's needs.\n"
      ],
      "metadata": {
        "id": "-onOn-MU5fHK"
      }
    },
    {
      "cell_type": "markdown",
      "source": [
        "### 1.3. Initializing OpenAI API authentication key"
      ],
      "metadata": {
        "id": "XxvlqwFQ4Qbp"
      }
    },
    {
      "cell_type": "code",
      "source": [
        "import openai\n",
        "\n",
        "# Set your OpenAI API key here\n",
        "openai.api_key = '<Enter Your key>'\n",
        "\n"
      ],
      "metadata": {
        "id": "wjGz-Ga4oEes"
      },
      "execution_count": null,
      "outputs": []
    },
    {
      "cell_type": "markdown",
      "source": [
        "## Part 1: Multi-Stage Prompting"
      ],
      "metadata": {
        "id": "zPaTtVJrEv59"
      }
    },
    {
      "cell_type": "code",
      "source": [
        "# Stage 1: Generate Learning Profile\n",
        "def generate_learning_profile(student_profile):\n",
        "    prompt = f\"\"\"\n",
        "    Analyze the following student profile:\n",
        "    Name: {student_profile['name']}\n",
        "    Grade: {student_profile['grade']}\n",
        "    Preferred subjects: {', '.join(student_profile['preferred_subjects'])}\n",
        "    Learning goals: {', '.join(student_profile['learning_goals'])}\n",
        "    Create a detailed learning profile.\n",
        "    \"\"\"\n",
        "    response = openai.ChatCompletion.create(\n",
        "        model=model_openai,  # Using the newer model\n",
        "        messages=[\n",
        "            {\"role\": \"system\", \"content\": \"You are a helpful assistant.\"},\n",
        "            {\"role\": \"user\", \"content\": prompt},\n",
        "        ]\n",
        "    )\n",
        "    return response['choices'][0]['message']['content'].strip()"
      ],
      "metadata": {
        "id": "8bJxszIft02u"
      },
      "execution_count": null,
      "outputs": []
    },
    {
      "cell_type": "markdown",
      "source": [
        "#### Stage 1: Generate a Learning Profile\n",
        "\n",
        "This cell defines the `generate_learning_profile` function, which creates a detailed learning profile for the student (Alex) based on the provided details.\n",
        "\n",
        "#### Function Details:\n",
        "1. **Input**:\n",
        "   - `student_profile`: A dictionary containing details about the student, such as name, grade, preferred subjects, and learning goals.\n",
        "\n",
        "2. **Prompt Construction**:\n",
        "   - A prompt is dynamically generated using the details from `student_profile`.\n",
        "   - The prompt asks the AI to analyze the student's profile and create a detailed learning plan.\n",
        "\n",
        "3. **OpenAI API Call**:\n",
        "   - The `openai.ChatCompletion.create` method sends the prompt to the specified model (`model_openai`), in this case, \"gpt-4o\".\n",
        "   - The `messages` parameter includes:\n",
        "     - **System Message**: Sets the context by informing the model it is a helpful assistant.\n",
        "     - **User Message**: The prompt generated from the student profile.\n",
        "\n",
        "4. **Output**:\n",
        "   - The response is extracted from the `choices` key of the API response, retrieving the AI's generated content and stripping any extra spaces.\n",
        "\n",
        "#### Purpose:\n",
        "This function automates the generation of a personalized learning profile for the student, leveraging the capabilities of OpenAI's generative model.\n"
      ],
      "metadata": {
        "id": "z35Dr1WM5sF4"
      }
    },
    {
      "cell_type": "code",
      "source": [
        "# Step 1: Generate Student Profile\n",
        "learning_profile = generate_learning_profile(student_profile)\n",
        "print(\"Stage 1: Learning Profile\\n\", learning_profile, \"\\n\")"
      ],
      "metadata": {
        "colab": {
          "base_uri": "https://localhost:8080/"
        },
        "id": "KHl8Jh5ooIrE",
        "outputId": "8312bf03-d7f9-4842-e024-c61c4226e268"
      },
      "execution_count": null,
      "outputs": [
        {
          "output_type": "stream",
          "name": "stdout",
          "text": [
            "Stage 1: Learning Profile\n",
            " ### Student Learning Profile\n",
            "\n",
            "**Name**: Alex  \n",
            "**Grade**: 10th Grade\n",
            "\n",
            "#### Academic Interests and Strengths\n",
            "- **Preferred Subjects**: Math, Science\n",
            "- **Current Strengths**:\n",
            "  - Demonstrates a keen interest and aptitude in numerical and logical reasoning.\n",
            "  - Shows enthusiasm for scientific inquiry and experimentation.\n",
            "\n",
            "#### Learning Goals\n",
            "1. **Improve Algebra Skills**\n",
            "   - Master key algebraic concepts such as quadratic equations, functions, and inequalities.\n",
            "   - Develop problem-solving strategies for complex algebraic problems.\n",
            "   - Improve abilities to simplify expressions and solve equations efficiently.\n",
            "\n",
            "2. **Enhance Understanding of Physics Concepts**\n",
            "   - Focus on fundamental physics concepts including Newtonian mechanics, energy, and waves.\n",
            "   - Grasp theoretical concepts and apply them to solve practical physics problems.\n",
            "   - Engage in experiments and project-based learning to solidify understanding.\n",
            "\n",
            "#### Learning Preferences and Styles\n",
            "- **Active Learning**: Prefers hands-on activities, demonstrations, and experiments.\n",
            "- **Visual Learner**: Benefits from diagrams, charts, and visual aids to understand abstract concepts.\n",
            "- **Analytical Thinking**: Enjoys problem-solving and thinking critically about complex issues.\n",
            "\n",
            "#### Recommended Resources and Activities\n",
            "- **Math Resources**:\n",
            "  - Online platforms like Khan Academy or IXL for practice problems and interactive learning.\n",
            "  - Algebra-focused tutoring sessions to address specific challenges.\n",
            "  - Participation in math clubs or competitions to enhance skills through peer interaction.\n",
            "\n",
            "- **Science Resources**:\n",
            "  - Utilize online resources such as HyperPhysics or The Physics Classroom for conceptual clarity.\n",
            "  - Enroll in science workshops or fairs to engage in scientific projects.\n",
            "  - Leverage school labs for practical experience with physics experiments.\n",
            "\n",
            "#### Assessment and Progress Monitoring\n",
            "- **Regular Assessments**: Include quizzes, standardized tests, and feedback sessions to track progress.\n",
            "- **Self-Evaluation**: Encourage Alex to assess his own understanding and areas for improvement.\n",
            "- **Feedback Loop**: Establish consistent communication between Alex, teachers, and tutors to ensure ongoing support.\n",
            "\n",
            "#### Extracurricular Activities and Enrichment\n",
            "- **STEM Clubs**: Participation in science and engineering clubs for additional hands-on learning.\n",
            "- **Math Competitions**: Encourage Alex to join events such as Math Olympiads to challenge his skills.\n",
            "- **Science Fairs**: Involvement in local and national science fairs to practice scientific method and presentation skills.\n",
            "\n",
            "#### Personal Development\n",
            "- **Time Management Skills**: Encourage balancing academic responsibilities with personal interests.\n",
            "- **Goal Setting**: Work with Alex to set short-term and long-term academic goals.\n",
            "- **Adaptability**: Promote flexibility in learning approaches as new concepts and challenges arise.\n",
            "\n",
            "By focusing on these tailored learning strategies, Alex will be better equipped to achieve his academic goals in math and science, strengthen his understanding of algebra and physics concepts, and foster a deeper passion for learning within these fields. \n",
            "\n"
          ]
        }
      ]
    },
    {
      "cell_type": "markdown",
      "source": [
        "#### ChatGPT's Performance in Generating the Learning Profile\n",
        "\n",
        "ChatGPT demonstrated strong capabilities in generating a detailed and structured learning profile for Alex, aligning with the input parameters provided in the prompt. The output effectively captured essential details about Alex, including learning goals, strengths, weaknesses, and preferred learning styles, and presented these in an easy-to-follow format.\n",
        "\n",
        "The model excelled at contextual understanding, producing actionable strategies tailored to Alex's profile.\n",
        "\n",
        "However, while the output was comprehensive, it lacked specificity in resource recommendations. Instead of general suggestions like \"interactive tools\" or \"practice conceptual questions,\" the model could have included more detailed examples, such as specific book titles, video series, or course links. This would make the recommendations immediately actionable for Alex or educators.\n",
        "\n",
        "Additionally, while the output was well-structured, it tended to be verbose in sections. Some details, such as the learning goals and recommended strategies, could have been presented more concisely to make the content more accessible.\n",
        "\n",
        "In summary, ChatGPT effectively generated a personalized and actionable learning profile. The model showcased its potential for supporting educational contexts through detailed analysis and relevant recommendations. With improvements in specificity, the output could become even more impactful and user-friendly.\n"
      ],
      "metadata": {
        "id": "sR6CYRMa4Z1W"
      }
    },
    {
      "cell_type": "markdown",
      "source": [
        "#### Stage 2: Design Personalized Study Plan"
      ],
      "metadata": {
        "id": "N4kg7BgBE4Bf"
      }
    },
    {
      "cell_type": "code",
      "source": [
        "# Stage 2: Design Personalized Study Plan\n",
        "def design_study_plan(student_profile):\n",
        "    prompt = f\"\"\"\n",
        "    Using the following student learning profile:\n",
        "    {student_profile}\n",
        "    Design a personalized 4-week study plan for algebra and physics.\n",
        "    \"\"\"\n",
        "    response = openai.ChatCompletion.create(\n",
        "        model=model_openai,  # Using the newer model\n",
        "        messages=[\n",
        "            {\"role\": \"system\", \"content\": \"You are a helpful assistant.\"},\n",
        "            {\"role\": \"user\", \"content\": prompt},\n",
        "        ]\n",
        "    )\n",
        "    return response['choices'][0]['message']['content'].strip()"
      ],
      "metadata": {
        "id": "MyK5_3cmyvnS"
      },
      "execution_count": null,
      "outputs": []
    },
    {
      "cell_type": "markdown",
      "source": [
        "This cell defines the `design_study_plan` function, which generates a personalized 4-week study plan for Alex, focusing on algebra and physics, based on the previously created student learning profile.\n",
        "\n",
        "1. **Input**:\n",
        "   - `student_profile`: A string representation of the student’s learning profile, containing information about their goals, strengths, and learning style.\n",
        "\n",
        "2. **Prompt Construction**:\n",
        "   - The function dynamically constructs a prompt asking the AI to use the provided learning profile to design a 4-week study plan tailored to Alex’s needs.\n",
        "\n",
        "3. **OpenAI API Call**:\n",
        "   - The `openai.ChatCompletion.create` method sends the constructed prompt to the specified model (`model_openai`), such as GPT-4.\n",
        "   - The `messages` parameter includes:\n",
        "     - **System Message**: Establishes context for the AI to behave as a helpful assistant.\n",
        "     - **User Message**: Contains the prompt with specific instructions to create a detailed study plan.\n",
        "\n",
        "4. **Output**:\n",
        "   - Extracts the generated study plan from the API response and removes any unnecessary whitespace using `strip()`.\n",
        "\n",
        "#### **Purpose**\n",
        "This function automates the creation of a 4-week study plan, ensuring it is customized to the student’s goals and strengths. It leverages ChatGPT's ability to generate structured and actionable content for educational planning."
      ],
      "metadata": {
        "id": "Cabg_2Hl778V"
      }
    },
    {
      "cell_type": "code",
      "source": [
        "# Step 2: Design Personalized Study Plan\n",
        "study_plan = design_study_plan(learning_profile)\n",
        "print(\"Stage 2: Study Plan\\n\", study_plan, \"\\n\")\n"
      ],
      "metadata": {
        "colab": {
          "base_uri": "https://localhost:8080/"
        },
        "id": "_5g671lSyy3j",
        "outputId": "f90bab3c-36a0-477b-e520-b23564e76b0c"
      },
      "execution_count": null,
      "outputs": [
        {
          "output_type": "stream",
          "name": "stdout",
          "text": [
            "Stage 2: Study Plan\n",
            " To design a personalized 4-week study plan for Alex, we'll focus on improving his algebra skills and enhancing his understanding of physics concepts by integrating his learning preferences and recommended resources. Each week will include specific goals, activities, and evaluation methods. Here's a suggested plan:\n",
            "\n",
            "### Week 1: Foundations and Fundamentals\n",
            "\n",
            "**Algebra Focus:**\n",
            "- **Goals**: Reinforce fundamental concepts like equations and expressions.\n",
            "- **Activities**:\n",
            "  - **Daily Practice**: Spend 30 minutes on Khan Academy tackling basic algebra topics, focusing on equations and expressions.\n",
            "  - **Visual Learning**: Create mind maps and diagrams to visualize different types of equations (e.g., linear vs. quadratic).\n",
            "  - **Assessment**: Take a diagnostic quiz on a platform like IXL to identify specific areas of strength and weakness.\n",
            "\n",
            "**Physics Focus:**\n",
            "- **Goals**: Understand basic Newtonian mechanics principles.\n",
            "- **Activities**:\n",
            "  - **Interactive Exploration**: Use The Physics Classroom to learn about forces and motion.\n",
            "  - **Hands-On Experiment**: Perform a simple lab experiment demonstrating Newton's first and second laws using household items (e.g., an inclined plane or toy cars).\n",
            "  - **Visual Aids**: Watch videos that visually explain Newton's laws, such as those on YouTube or educational sites.\n",
            "\n",
            "### Week 2: Problem-Solving and Application\n",
            "\n",
            "**Algebra Focus:**\n",
            "- **Goals**: Improve problem-solving skills with quadratic equations and inequalities.\n",
            "- **Activities**:\n",
            "  - **Interactive Practice**: Complete practice problems involving quadratic equations on Khan Academy.\n",
            "  - **Tutoring Session**: Attend a one-on-one tutoring session focusing on solving inequalities.\n",
            "  - **Math Club**: Participate in a math club activity geared towards solving challenging algebra problems.\n",
            "\n",
            "**Physics Focus:**\n",
            "- **Goals**: Deepen understanding of energy concepts.\n",
            "- **Activities**:\n",
            "  - **Practical Application**: Use HyperPhysics to explore topics like kinetic and potential energy.\n",
            "  - **Project-Based Learning**: Start a small project to measure energy transformations (e.g., build a basic pendulum).\n",
            "  - **Conceptual Questions**: Solve physics problems requiring the application of energy conservation principles.\n",
            "\n",
            "### Week 3: Advanced Concepts and Theories\n",
            "\n",
            "**Algebra Focus:**\n",
            "- **Goals**: Master algebraic functions and their applications.\n",
            "- **Activities**:\n",
            "  - **Online Learning**: Explore functional equations and graphing concepts with video tutorials on IXL.\n",
            "  - **Peer Interaction**: Collaborate with peers on complex algebra problem sets in a study group.\n",
            "  - **Progress Check**: Take an online test to measure understanding and receive immediate feedback.\n",
            "\n",
            "**Physics Focus:**\n",
            "- **Goals**: Explore wave mechanisms and their properties.\n",
            "- **Activities**:\n",
            "  - **Hands-On Learning**: Conduct experiments showing wave properties using water or rope waves.\n",
            "  - **Visual Aids**: Watch documentaries or simulations that illustrate wave phenomena.\n",
            "  - **Evaluation**: Complete a worksheet with conceptual and practical questions about waves.\n",
            "\n",
            "### Week 4: Synthesis and Evaluation\n",
            "\n",
            "**Algebra Focus:**\n",
            "- **Goals**: Integrate learned concepts for complex problem-solving.\n",
            "- **Activities**:\n",
            "  - **Comprehensive Review**: Use flashcards and practice exams to review all algebra topics covered.\n",
            "  - **Math Competition Prep**: Engage in a mock math competition to apply skills dynamically.\n",
            "  - **Self-Assessment**: Reflect on progress and identify remaining challenges.\n",
            "\n",
            "**Physics Focus:**\n",
            "- **Goals**: Synthesize physics knowledge through project-based learning.\n",
            "- **Activities**:\n",
            "  - **Capstone Project**: Present findings from the pendulum project or wave experiments to peers or in a science fair setting.\n",
            "  - **Peer Feedback**: Collect feedback on the presentation and scientific reasoning.\n",
            "  - **Reflection**: Write a short report summarizing the learning journey and insights gained in the past month.\n",
            "\n",
            "### Ongoing Assessment and Feedback\n",
            "\n",
            "- **Weekly Check-ins**: Schedule brief weekly meetings with a teacher or tutor to discuss progress, challenges, and adjustments.\n",
            "- **Self-Evaluation**: Maintain a study journal to track learning experiences, difficulties, and successes.\n",
            "- **Flexible Adjustments**: Modify the plan as needed to address Alex's evolving needs and any unforeseen challenges.\n",
            "\n",
            "By following this structured study plan, Alex can build a solid foundation in algebra and physics, developing both the understanding and the skills necessary to excel in these subjects. \n",
            "\n"
          ]
        }
      ]
    },
    {
      "cell_type": "markdown",
      "source": [
        "#### ChatGPT's Performance in Generating the Study Plan\n",
        "\n",
        "ChatGPT demonstrated strong capabilities in creating a detailed and structured 4-week study plan for Alex, aligning well with the input parameters from the prompt. The output effectively outlined weekly goals, specific activities, and progress monitoring strategies.\n",
        "\n",
        "The model showcased excellent contextual understanding. For instance, it recommended visual aids like simulations and videos for physics and hands-on experiments to reinforce concepts. Similarly, it suggested interactive tools like Khan Academy and group study sessions for algebra practice, reflecting a strong alignment with Alex’s preferences and strengths.\n",
        "\n",
        "The inclusion of motivational elements, such as celebrating small victories and engaging in reflective sessions is a nice touch.\n",
        "\n",
        "However, the plan could be improved by adding specificity to the resources mentioned. For example, instead of suggesting general tools like \"Khan Academy\" or \"IXL,\" the model could, as mentioned earlier, list particular modules, video series, or practice sets.\n",
        "\n",
        "In summary, ChatGPT effectively generated a personalized and actionable study plan that addresses Alex’s learning goals and preferences. While the plan is comprehensive and structured, further specificity in resources could be useful.\n"
      ],
      "metadata": {
        "id": "AUuk-ZOM4ari"
      }
    },
    {
      "cell_type": "markdown",
      "source": [
        "#### Stage 3: Summarize Resources (Books, Online Courses, Practice Tests)"
      ],
      "metadata": {
        "id": "0gz146zFE_VI"
      }
    },
    {
      "cell_type": "code",
      "source": [
        "# Stage 3: Summarize Resources (Books, Online Courses, Practice Tests)\n",
        "def summarize_resources(student_profile):\n",
        "    prompt = f\"\"\"\n",
        "    Summarize resources (books, online courses, and practice tests) that can help a student with the following learning goals:\n",
        "    {student_profile}\n",
        "    Provide a list of resources(with links if possible) for each subject (algebra and physics).\n",
        "    \"\"\"\n",
        "    response = openai.ChatCompletion.create(\n",
        "        model=model_openai,  # Using the newer model\n",
        "        messages=[\n",
        "            {\"role\": \"system\", \"content\": \"You are a helpful assistant.\"},\n",
        "            {\"role\": \"user\", \"content\": prompt}\n",
        "        ]\n",
        "    )\n",
        "    return response['choices'][0]['message']['content'].strip()\n"
      ],
      "metadata": {
        "id": "jO35mLUsnpI_"
      },
      "execution_count": null,
      "outputs": []
    },
    {
      "cell_type": "markdown",
      "source": [
        "This cell defines the `summarize_resources` function, which generates a list of recommended resources (books, online courses, and practice tests) tailored to Alex’s learning goals in algebra and physics.\n",
        "\n",
        "1. **Input**:\n",
        "   - `student_profile`: A string representation of Alex's learning profile, including their academic goals and preferences.\n",
        "\n",
        "2. **Prompt Construction**:\n",
        "   - The function dynamically generates a prompt asking the model to summarize relevant resources for both algebra and physics.\n",
        "   - The prompt requests specific types of resources (books, online courses, practice tests) and suggests including links when possible.\n",
        "\n",
        "3. **OpenAI API Call**:\n",
        "   - The `openai.ChatCompletion.create` method sends the constructed prompt to the specified model (`model_openai`), such as GPT-4.\n",
        "   - The `messages` parameter includes:\n",
        "     - **System Message**: Provides context, informing the AI that it should act as a helpful assistant.\n",
        "     - **User Message**: Contains the detailed prompt with the task instructions.\n",
        "\n",
        "4. **Output**:\n",
        "   - Extracts and returns the generated list of resources from the API response, formatted as a string with unnecessary whitespace removed.\n",
        "\n",
        "#### **Purpose**\n",
        "This function leverages ChatGPT’s ability to curate and summarize educational resources. By aligning recommendations with Alex’s specific learning goals, it provides actionable suggestions for algebra and physics, enhancing their study plan with targeted support."
      ],
      "metadata": {
        "id": "KHwBjd5W9687"
      }
    },
    {
      "cell_type": "code",
      "source": [
        "# Step 3: Summarize Resources\n",
        "resources = summarize_resources(learning_profile)\n",
        "print(\"Stage 3: Resources\\n\", resources)\n"
      ],
      "metadata": {
        "colab": {
          "base_uri": "https://localhost:8080/"
        },
        "id": "mSghOgIxzSoV",
        "outputId": "b1fe30a6-3588-425a-c1e1-558d405c14b7"
      },
      "execution_count": null,
      "outputs": [
        {
          "output_type": "stream",
          "name": "stdout",
          "text": [
            "Stage 3: Resources\n",
            " Certainly! Here’s a list of resources categorized by subject to help Alex with his algebra and physics learning goals:\n",
            "\n",
            "### Algebra Resources\n",
            "\n",
            "1. **Khan Academy - Algebra**\n",
            "   - Offers comprehensive lessons on quadratic equations, functions, and inequalities with practice exercises.\n",
            "   - [Link to Khan Academy Algebra](https://www.khanacademy.org/math/algebra)\n",
            "\n",
            "2. **IXL Learning - Algebra**\n",
            "   - Interactive problems covering various algebra topics; provides real-time feedback.\n",
            "   - [Link to IXL Algebra](https://www.ixl.com/math/algebra-1)\n",
            "\n",
            "3. **Art of Problem Solving (AoPS) - Introduction to Algebra**\n",
            "   - A textbook and online course designed to deepen understanding and problem-solving skills.\n",
            "   - [Link to AoPS Introduction to Algebra](https://artofproblemsolving.com/store/item/intro-algebra)\n",
            "\n",
            "4. **Algebra Nation**\n",
            "   - Offers video tutorials and practice exercises paired with an interactive online platform.\n",
            "   - [Link to Algebra Nation](https://www.algebranation.com/)\n",
            "\n",
            "### Physics Resources\n",
            "\n",
            "1. **HyperPhysics**\n",
            "   - An extensive web resource for conceptual frameworks in physics; particularly useful for understanding Newtonian mechanics, energy, and waves.\n",
            "   - [Link to HyperPhysics](http://hyperphysics.phy-astr.gsu.edu/)\n",
            "\n",
            "2. **The Physics Classroom**\n",
            "   - Provides tutorials, exercises, and interactive simulations for high school physics students.\n",
            "   - [Link to The Physics Classroom](https://www.physicsclassroom.com/)\n",
            "\n",
            "3. **CrashCourse Physics (YouTube)**\n",
            "   - Engaging video tutorials covering fundamental physics topics presented in a concise format.\n",
            "   - [Link to CrashCourse Physics](https://www.youtube.com/playlist?list=PL8dPuuaLjXtPHzzYuWy6fYEaX9mQQ8oGr)\n",
            "\n",
            "4. **PhET Interactive Simulations**\n",
            "   - Developed by the University of Colorado, offers free interactive math and science simulations.\n",
            "   - [Link to PhET Physics Simulations](https://phet.colorado.edu/en/simulations/category/physics)\n",
            "\n",
            "5. **OpenStax Physics**\n",
            "   - Free, high-quality, peer-reviewed, openly licensed textbooks that can be adapted and personalized.\n",
            "   - [Link to OpenStax Physics](https://openstax.org/subjects/science)\n",
            "\n",
            "### Practice Tests\n",
            "\n",
            "1. **IXL Learning - Diagnostic Tests**\n",
            "   - Offers diagnostic tests for both math and science to assess strengths and weaknesses.\n",
            "   - [Link to IXL Diagnostic Tests](https://www.ixl.com)\n",
            "\n",
            "2. **Albert.io**\n",
            "   - Provides practice questions and tests for high school physics and algebra, complete with explanations.\n",
            "   - [Link to Albert.io High School Math and Science](https://www.albert.io/)\n",
            "\n",
            "### Additional Resources and Activities\n",
            "\n",
            "1. **Brilliant.org**\n",
            "   - Focuses on problem-solving and critical thinking across math and science topics with interactive learning.\n",
            "   - [Link to Brilliant - Algebra and Physics](https://www.brilliant.org)\n",
            "\n",
            "2. **Coursera - Physics Courses**\n",
            "   - Offers access to university-level courses in physics, including comprehensive lectures and problem sets.\n",
            "   - [Link to Coursera Physics](https://www.coursera.org/browse/physical-science-and-engineering/physics)\n",
            "\n",
            "3. **Math Competitions**\n",
            "   - American Mathematics Competitions (AMC) offers a series of exams and materials to challenge and develop math skills.\n",
            "   - [Link to AMC](https://www.maa.org/math-competitions)\n",
            "\n",
            "4. **Science Fairs and Competitions**\n",
            "   - Society for Science offers resources and information on advancing to science fairs like the Regeneron Science Talent Search.\n",
            "   - [Link to Society for Science](https://www.societyforscience.org/outreach-and-equity/stem-research-grants/)\n",
            "\n",
            "By utilizing these resources, Alex can enhance his algebra and physics skills through active and interactive learning, preparing him well for both academic success and extracurricular competitions.\n"
          ]
        }
      ]
    },
    {
      "cell_type": "markdown",
      "source": [
        "#### ChatGPT's Performance in Generating the Resources\n",
        "\n",
        "ChatGPT successfully generated a detailed and comprehensive list of resources tailored to Alex’s learning goals in algebra and physics. The output included a wide range of books, online courses, practice tests, and additional support strategies, all aligned with Alex’s visual and kinesthetic learning styles.\n",
        "\n",
        "The model demonstrated a strong contextual understanding by selecting resources that matched Alex’s preferences and needs. For example, it recommended interactive platforms like **Khan Academy** and **IXL Learning** for algebra and **PhET Interactive Simulations** for physics, ensuring a mix of theoretical and hands-on learning. Additionally, links to books and online courses were provided, making the recommendations actionable and easy to access.\n",
        "\n",
        "The inclusion of motivational strategies, such as joining math and science clubs or engaging in competitions, added a thoughtful layer to the recommendations, encouraging Alex to stay engaged and enthusiastic. Progress monitoring through platforms like Quizlet and Kahoot! for quizzes also reflects the model’s ability to integrate adaptive learning tools.\n",
        "\n",
        "In summary, ChatGPT provided a comprehensive and well-structured set of resources that aligns with Alex’s goals and learning preferences.\n"
      ],
      "metadata": {
        "id": "ENQzp3nb4bu9"
      }
    },
    {
      "cell_type": "markdown",
      "source": [
        "## Part 2: Few-Shot Prompting for Quiz Generation"
      ],
      "metadata": {
        "id": "2HfnNINXCdyK"
      }
    },
    {
      "cell_type": "markdown",
      "source": [
        "This cell defines the `generate_quiz` function, which generates a set of quiz questions tailored for a 10th-grade student studying algebra and physics.\n",
        "\n",
        "1. **Prompt Construction**:\n",
        "   - The prompt provides examples of math and physics questions at a 10th-grade skill level:\n",
        "     - **Math Examples**: Simplifying expressions and solving quadratic equations.\n",
        "     - **Physics Examples**: Calculating time to reach the highest point for a ball thrown upward and determining acceleration for an object given force and mass.\n",
        "   - The model is then instructed to generate two new questions for each subject that match this difficulty level.\n",
        "\n",
        "2. **OpenAI API Call**:\n",
        "   - The `openai.ChatCompletion.create` method sends the prompt to the model (`model_openai`), such as GPT-4.\n",
        "   - The `messages` parameter includes:\n",
        "     - **System Message**: Establishes context by instructing the AI to act as a quiz-creating assistant.\n",
        "     - **User Message**: Contains the detailed prompt specifying the requirements for the quiz.\n",
        "\n",
        "3. **Output**:\n",
        "   - The function extracts the generated quiz questions from the API response and removes any unnecessary whitespace.\n",
        "\n",
        "4. **Quiz Generation**:\n",
        "   - The generated quiz is stored in the `quiz` variable and printed for review.\n",
        "\n",
        "#### **Purpose**\n",
        "This function leverages ChatGPT’s ability to create customized quiz questions that align with the student's academic level and subject focus. It demonstrates the use of few-shot prompting to guide the model in generating output consistent with provided examples.\n"
      ],
      "metadata": {
        "id": "wi1Nh5-kCZ6j"
      }
    },
    {
      "cell_type": "code",
      "source": [
        "# Function to generate quiz questions\n",
        "def generate_quiz():\n",
        "    prompt = \"\"\"\n",
        "    Generate a quiz for a 10th-grade student studying algebra and physics. Provide questions aligned with their skill level. Examples:\n",
        "\n",
        "    - Math: Simplify the expression: 2(x + 3) + 4(x - 5).\n",
        "    - Math: Solve the quadratic equation: x² - 5x + 6 = 0.\n",
        "\n",
        "    - Physics: A ball is thrown vertically upward with a velocity of 15 m/s. Calculate the time it takes to reach the highest point.\n",
        "    - Physics: A 5 kg object is pushed with a force of 20 N. Find its acceleration (neglect friction).\n",
        "\n",
        "    Now, generate two new questions for each subject that match this difficulty level. No need to provide answers.\n",
        "    \"\"\"\n",
        "    response = openai.ChatCompletion.create(\n",
        "        model=model_openai,  # Use the latest available model\n",
        "        messages=[\n",
        "            {\"role\": \"system\", \"content\": \"You are a helpful assistant for creating educational quizzes.\"},\n",
        "            {\"role\": \"user\", \"content\": prompt},\n",
        "        ]\n",
        "    )\n",
        "    return response['choices'][0]['message']['content'].strip()\n",
        "\n",
        "# Generate the quiz\n",
        "quiz = generate_quiz()\n",
        "print(\"Generated Quiz:\\n\", quiz)"
      ],
      "metadata": {
        "colab": {
          "base_uri": "https://localhost:8080/"
        },
        "id": "XOfErj3g0ZSr",
        "outputId": "37003d0c-b1ee-4d9f-b391-dfa13600a3fa"
      },
      "execution_count": null,
      "outputs": [
        {
          "output_type": "stream",
          "name": "stdout",
          "text": [
            "Generated Quiz:\n",
            " Certainly! Here are two algebra questions and two physics questions suitable for a 10th-grade student:\n",
            "\n",
            "**Algebra Questions:**\n",
            "\n",
            "1. Simplify the expression: 3(2x - 4) - 5(x + 6).\n",
            "\n",
            "2. Solve the quadratic equation: x² + 4x - 21 = 0.\n",
            "\n",
            "**Physics Questions:**\n",
            "\n",
            "1. A car accelerates from rest at a rate of 3 m/s². Calculate the time it takes for the car to reach a speed of 18 m/s.\n",
            "\n",
            "2. A 10 kg box is placed on a frictionless surface. If a horizontal force of 50 N is applied to it, find the acceleration of the box.\n"
          ]
        }
      ]
    },
    {
      "cell_type": "markdown",
      "source": [
        "#### ChatGPT's Performance in Generating the Quiz Questions\n",
        "\n",
        "ChatGPT successfully generated a set of quiz questions tailored to Alex’s skill level in algebra and physics. The output demonstrated a clear understanding of the prompt requirements, providing questions that match the examples in both difficulty and relevance to the 10th-grade curriculum.\n",
        "\n",
        "\n",
        "The model demonstrated strong contextual understanding by crafting questions that are practical, engaging, and aligned with Alex’s academic level. For instance:\n",
        "- The algebra question on simplifying reinforces Alex’s foundational algebra skills.\n",
        "- The physics question about a car accelerating emphasizes real-world applications of kinematic equations.\n",
        "\n",
        "ChatGPT effectively generated quiz questions that are relevant. The output demonstrated strong contextual understanding and adherence to the prompt but could be further enhanced by introducing more variety and complexity to challenge Alex and encourage deeper learning.\n"
      ],
      "metadata": {
        "id": "CDK1thWMCOXO"
      }
    },
    {
      "cell_type": "markdown",
      "source": [
        "## Part 3: Chain-of-Thought Reasoning"
      ],
      "metadata": {
        "id": "Pc5qSnTPEK1g"
      }
    },
    {
      "cell_type": "markdown",
      "source": [
        "This cell defines the `generate_and_solve_question` function, which uses chain-of-thought reasoning to create a hypothetical physics question tailored to Alex's skill level and provides a step-by-step solution.\n",
        "\n",
        "1. **Prompt Construction**:\n",
        "   - The prompt includes an example of chain-of-thought reasoning for a physics problem: calculating the time it takes for a ball thrown upward to reach its highest point.\n",
        "   - The model is then instructed to create a new physics question and solve it using a similar step-by-step reasoning approach.\n",
        "\n",
        "2. **OpenAI API Call**:\n",
        "   - The `openai.ChatCompletion.create` method sends the prompt to the specified model (`model_openai`).\n",
        "   - The `messages` parameter includes:\n",
        "     - **System Message**: Instructs the AI to act as a clear and helpful assistant for solving physics problems.\n",
        "     - **User Message**: Contains the detailed prompt, including the example and task requirements.\n",
        "\n",
        "3. **Output**:\n",
        "   - The function extracts the generated question and solution from the API response, removing any unnecessary whitespace using `strip()`.\n",
        "\n",
        "4. **Generated Output**:\n",
        "   - The output includes a new physics question and its solution, explained step by step using chain-of-thought reasoning. The solution is tailored to align with Alex's grade level and learning goals.\n",
        "\n",
        "#### **Purpose**\n",
        "This function demonstrates ChatGPT’s ability to generate and solve physics problems using chain-of-thought reasoning, providing Alex with clear and logical explanations to enhance understanding and problem-solving skills."
      ],
      "metadata": {
        "id": "CyjtCxrEESDk"
      }
    },
    {
      "cell_type": "code",
      "source": [
        "# Function to generate a hypothetical question and solve it with chain-of-thought reasoning\n",
        "def generate_and_solve_question():\n",
        "    prompt = \"\"\"\n",
        "    Here is an example of chain-of-thought reasoning for a physics problem:\n",
        "\n",
        "    Example:\n",
        "    A ball is thrown upward with an initial velocity of 20 m/s. How long does it take to reach the highest point? Let's solve this step by step:\n",
        "    1. Identify the known values:\n",
        "       - Initial velocity (u) = 20 m/s\n",
        "       - Acceleration (a) = -9.8 m/s² (due to gravity, acting downward)\n",
        "    2. Recall the equation of motion: v = u + at.\n",
        "       - At the highest point, the final velocity (v) = 0 m/s.\n",
        "    3. Substitute the values into the equation:\n",
        "       - 0 = 20 + (-9.8)t\n",
        "    4. Solve for t:\n",
        "       - t = 20 / 9.8 ≈ 2.04 seconds.\n",
        "    Answer: It takes approximately 2.04 seconds to reach the highest point.\n",
        "\n",
        "    Now, create a hypothetical physics question at Alex's skill level and explain the solution using chain-of-thought reasoning similar to the example above.\n",
        "    \"\"\"\n",
        "    response = openai.ChatCompletion.create(\n",
        "        model=model_openai,\n",
        "        messages=[\n",
        "            {\"role\": \"system\", \"content\": \"You are a helpful assistant who explains physics problems clearly.\"},\n",
        "            {\"role\": \"user\", \"content\": prompt},\n",
        "        ]\n",
        "    )\n",
        "    return response['choices'][0]['message']['content'].strip()\n",
        "\n",
        "# Generate and solve the question\n",
        "solution = generate_and_solve_question()\n",
        "print(\"Generated Question and Solution:\\n\", solution)\n"
      ],
      "metadata": {
        "colab": {
          "base_uri": "https://localhost:8080/"
        },
        "id": "huF-9bGe0303",
        "outputId": "5882b023-0e4a-4007-8a78-09a814b4b5df"
      },
      "execution_count": null,
      "outputs": [
        {
          "output_type": "stream",
          "name": "stdout",
          "text": [
            "Generated Question and Solution:\n",
            " Sure, let's create a hypothetical physics question and solve it using a chain-of-thought approach:\n",
            "\n",
            "**Question:**\n",
            "A car accelerates from rest at a constant rate of 3 m/s². How long does it take for the car to cover a distance of 150 meters?\n",
            "\n",
            "**Solution:**\n",
            "\n",
            "1. **Identify the known values:**\n",
            "   - Initial velocity (\\( u \\)) = 0 m/s (since the car starts from rest)\n",
            "   - Acceleration (\\( a \\)) = 3 m/s²\n",
            "   - Distance (\\( s \\)) = 150 meters\n",
            "\n",
            "2. **Recall the equation of motion that relates distance, initial velocity, acceleration, and time:**\n",
            "\n",
            "   \\[\n",
            "   s = ut + \\frac{1}{2}at^2\n",
            "   \\]\n",
            "\n",
            "   Since the car starts from rest, \\( u = 0 \\), so the equation simplifies to:\n",
            "\n",
            "   \\[\n",
            "   s = \\frac{1}{2}at^2\n",
            "   \\]\n",
            "\n",
            "3. **Substitute the known values into the equation:**\n",
            "\n",
            "   \\[\n",
            "   150 = \\frac{1}{2} \\times 3 \\times t^2\n",
            "   \\]\n",
            "\n",
            "4. **Solve for \\( t^2 \\):**\n",
            "\n",
            "   \\[\n",
            "   150 = 1.5 \\times t^2\n",
            "   \\]\n",
            "\n",
            "5. **Divide both sides by 1.5 to isolate \\( t^2 \\):**\n",
            "\n",
            "   \\[\n",
            "   t^2 = \\frac{150}{1.5} = 100\n",
            "   \\]\n",
            "\n",
            "6. **Take the square root of both sides to solve for \\( t \\):**\n",
            "\n",
            "   \\[\n",
            "   t = \\sqrt{100} = 10 \\text{ seconds}\n",
            "   \\]\n",
            "\n",
            "**Answer:** It takes the car 10 seconds to cover a distance of 150 meters.\n"
          ]
        }
      ]
    },
    {
      "cell_type": "markdown",
      "source": [
        "### Analysis of ChatGPT's Performance in Generating and Solving the Physics Problem\n",
        "\n",
        "ChatGPT successfully generated a hypothetical physics question tailored to Alex's skill level and provided a detailed step-by-step solution using chain-of-thought reasoning. The problem involved calculating the time required for a car to reach a specific speed under uniform acceleration, which aligns well with Alex's learning goal of improving physics concepts.\n",
        "\n",
        "The output demonstrated strong contextual understanding and adherence to the prompt. The model applied equations of motion effectively and showcased logical reasoning by breaking the solution into clear, manageable steps.\n",
        "\n",
        "The reasoning process was clear and aligned with Alex's academic level:\n",
        "- The problem introduced key physics concepts, such as uniform acceleration and kinematic equations.\n",
        "- Each step was thoroughly explained, ensuring clarity and accessibility for a 10th-grade student.\n",
        "- The solution concluded with a precise and accurate answer, reinforcing the application of theoretical knowledge.\n",
        "\n",
        "Therefore it is evdient that ChatGPT effectively created a well-structured and relevant physics problem and solved it with clear chain-of-thought reasoning.\n"
      ],
      "metadata": {
        "id": "avJeqjy24dWV"
      }
    },
    {
      "cell_type": "markdown",
      "source": [
        "## Part 4: Interactive and Iterative Prompting"
      ],
      "metadata": {
        "id": "Br0sp89MGT6o"
      }
    },
    {
      "cell_type": "markdown",
      "source": [
        "This cell defines the `chatbot_iteration_1` function, which simulates a chatbot assisting Alex in solving a linear equation step-by-step.\n",
        "\n",
        "1. **Prompt Construction**:\n",
        "   - The prompt asks the model to simulate a chatbot guiding Alex to solve the linear equation \\( 2x + 4 = 10 \\).\n",
        "   - The task focuses on providing step-by-step hints to help Alex arrive at the solution independently.\n",
        "\n",
        "2. **OpenAI API Call**:\n",
        "   - The `openai.ChatCompletion.create` method sends the prompt to the OpenAI model (`gpt-3.5-turbo`).\n",
        "   - The `messages` parameter includes:\n",
        "     - **System Message**: Establishes the context by instructing the AI to act as a helpful assistant specializing in solving math problems.\n",
        "     - **User Message**: Contains the specific prompt describing the chatbot's task.\n",
        "\n",
        "3. **Output**:\n",
        "   - The function extracts the chatbot's response from the API's output and removes unnecessary whitespace using `strip()`.\n",
        "\n",
        "4. **Execution**:\n",
        "   - The chatbot's response is printed to simulate its behavior and demonstrate how it guides Alex step-by-step in solving the equation.\n",
        "\n",
        "#### **Purpose**\n",
        "This function demonstrates ChatGPT’s ability to simulate interactive problem-solving assistance, providing clear and structured guidance to Alex. It highlights how iterative prompting can be used to develop a chatbot for educational support in solving math problems."
      ],
      "metadata": {
        "id": "0uSyxyolGYgU"
      }
    },
    {
      "cell_type": "code",
      "source": [
        "def chatbot_iteration_1():\n",
        "    prompt = \"\"\"\n",
        "    Simulate a chatbot assisting Alex in solving a linear equation: 2x + 4 = 10.\n",
        "    Provide step-by-step hints and guide Alex to find the solution.\n",
        "    \"\"\"\n",
        "    response = openai.ChatCompletion.create(\n",
        "        model=\"gpt-3.5-turbo\",\n",
        "        messages=[\n",
        "            {\"role\": \"system\", \"content\": \"You are a helpful assistant for solving math problems.\"},\n",
        "            {\"role\": \"user\", \"content\": prompt},\n",
        "        ]\n",
        "    )\n",
        "    return response['choices'][0]['message']['content'].strip()\n",
        "\n",
        "# Run iteration 1\n",
        "print(\"Iteration 1 Output:\\n\", chatbot_iteration_1())\n"
      ],
      "metadata": {
        "colab": {
          "base_uri": "https://localhost:8080/"
        },
        "id": "DRgk5wSK20Og",
        "outputId": "0d7fc31d-8df9-4876-e41b-dcd768bd83a0"
      },
      "execution_count": null,
      "outputs": [
        {
          "output_type": "stream",
          "name": "stdout",
          "text": [
            "Iteration 1 Output:\n",
            " Sure, I'd be happy to help with that!\n",
            "\n",
            "Step 1: The equation we have is 2x + 4 = 10. The goal is to isolate x on one side of the equation.\n",
            "\n",
            "Step 2: Let's start by getting rid of the constant term on the side with x. To do this, you need to subtract 4 from both sides of the equation:\n",
            "2x + 4 - 4 = 10 - 4\n",
            "\n",
            "Step 3: Simplify this to get:\n",
            "2x = 6\n",
            "\n",
            "Step 4: Now, we need to isolate x. Since 2x means 2 times x, to get x by itself, we need to divide by 2 on both sides of the equation:\n",
            "2x / 2 = 6 / 2\n",
            "\n",
            "Step 5: Simplify this to get:\n",
            "x = 3\n",
            "\n",
            "So, the solution to the equation 2x + 4 = 10 is x = 3. Let me know if you need further assistance or have any other questions!\n"
          ]
        }
      ]
    },
    {
      "cell_type": "markdown",
      "source": [
        "#### ChatGPT's Performance in Simulating a Chatbot for Solving a Linear Equation\n",
        "\n",
        "ChatGPT successfully simulated a chatbot to assist Alex in solving the linear equation. The output provided a clear and detailed step-by-step explanation, making the problem-solving process accessible and engaging for a 10th-grade student. The chatbot's interactive and supportive tone aligned well with the educational objective of building confidence in students.\n",
        "\n",
        "The output demonstrated strong contextual understanding and adherence to the prompt. The chatbot systematically guided Alex through each step.\n",
        "\n",
        "The reasoning process was well-suited to Alex’s skill level.\n",
        "\n",
        "In summary, ChatGPT effectively simulated a helpful and interactive chatbot that provided clear and structured guidance to solve a linear equation. The detailed step-by-step hints and encouraging tone made the output highly accessible and supportive. With the addition of follow-up interactions and alternative solving approaches, the chatbot’s effectiveness as an educational tool could be further enhanced.\n"
      ],
      "metadata": {
        "id": "IPZ_3ul24ePN"
      }
    },
    {
      "cell_type": "code",
      "source": [
        "def chatbot_iteration_2():\n",
        "    prompt = \"\"\"\n",
        "    Simulate a chatbot assisting Alex in solving a linear equation: 2x + 4 = 10.\n",
        "    Add a personalized greeting and provide encouragement if Alex gets stuck.\n",
        "    Guide Alex step by step to find the solution and offer hints if needed.\n",
        "    \"\"\"\n",
        "    response = openai.ChatCompletion.create(\n",
        "        model=\"gpt-3.5-turbo\",\n",
        "        messages=[\n",
        "            {\"role\": \"system\", \"content\": \"You are a friendly and encouraging math tutor for Alex.\"},\n",
        "            {\"role\": \"user\", \"content\": prompt},\n",
        "        ]\n",
        "    )\n",
        "    return response['choices'][0]['message']['content'].strip()\n",
        "\n",
        "# Run iteration 2\n",
        "print(\"Iteration 2 Output:\\n\", chatbot_iteration_2())\n"
      ],
      "metadata": {
        "colab": {
          "base_uri": "https://localhost:8080/"
        },
        "id": "hVv-OZdI22kA",
        "outputId": "0f4c8ac1-c2e7-4775-9da5-5a87e797b8c4"
      },
      "execution_count": null,
      "outputs": [
        {
          "output_type": "stream",
          "name": "stdout",
          "text": [
            "Iteration 2 Output:\n",
            " Hello Alex! I'm here to help you solve the linear equation 2x + 4 = 10. Let's work on it together!\n",
            "\n",
            "Step 1: The first thing we want to do is isolate the variable x, which means we need to get rid of the constant term first. In this case, the constant term is 4. To eliminate it, we'll subtract 4 from both sides of the equation.\n",
            "\n",
            "2x + 4 - 4 = 10 - 4\n",
            "\n",
            "This simplifies to:\n",
            "\n",
            "2x = 6\n",
            "\n",
            "Great job! You've successfully eliminated the constant term. Now, to solve for x, we need to isolate it by getting rid of the coefficient 2. Since 2 is multiplied by x, we'll perform the inverse operation, which is division. \n",
            "\n",
            "Step 2: Divide both sides of the equation by 2 to solve for x.\n",
            "\n",
            "2x/2 = 6/2\n",
            "\n",
            "This gives us:\n",
            "\n",
            "x = 3\n",
            "\n",
            "Fantastic work, Alex! You have found the solution to the equation. The value of x in the equation 2x + 4 = 10 is x = 3. If you have any more equations or need further assistance, feel free to ask. Keep up the great work! You are doing awesome!\n"
          ]
        }
      ]
    },
    {
      "cell_type": "markdown",
      "source": [
        "### ChatGPT's Performance in Simulating a Chatbot for Solving a Linear Equation (Iteration 2)\n",
        "\n",
        "In this iteration, ChatGPT enhanced the chatbot’s interaction by introducing a personalized greeting and maintaining an encouraging tone throughout the problem-solving process. The output retained the clarity and step-by-step approach from the first iteration while adding a more supportive and engaging dialogue.\n",
        "\n",
        "The reasoning process remained clear and aligned with Alex’s skill level:\n",
        "- The chatbot started by greeting Alex and setting a friendly tone, which can help build rapport and confidence.\n",
        "- Each step was explained in detail, including the mathematical operations and their purpose (e.g., \"To eliminate it, we'll subtract 4 from both sides of the equation\").\n",
        "- The solution was calculated accurately (\\( x = 3 \\)), and the explanation was easy to follow.\n",
        "\n",
        "The inclusion of motivational language, such as \"Great job!\" and \"Fantastic work, Alex!\" adds value by creating positive reinforcement.\n",
        "\n",
        "In summary, ChatGPT effectively simulated a more engaging and supportive chatbot in this iteration. The personalized greeting and motivational tone elevates the user experience while retaining the clarity and accuracy of the step-by-step solution.\n"
      ],
      "metadata": {
        "id": "ZgtmheCc4ez9"
      }
    },
    {
      "cell_type": "code",
      "source": [
        "def chatbot_iteration_3():\n",
        "    prompt = \"\"\"\n",
        "    Simulate a chatbot assisting Alex in solving a linear equation: 2x + 4 = 10.\n",
        "    Greet Alex personally, provide encouragement if Alex gets stuck, and optimize responses to make them concise and student-friendly.\n",
        "    \"\"\"\n",
        "    response = openai.ChatCompletion.create(\n",
        "        model=\"gpt-3.5-turbo\",\n",
        "        messages=[\n",
        "            {\"role\": \"system\", \"content\": \"You are a concise and encouraging tutor for Alex.\"},\n",
        "            {\"role\": \"user\", \"content\": prompt},\n",
        "        ]\n",
        "    )\n",
        "    return response['choices'][0]['message']['content'].strip()\n",
        "\n",
        "# Run iteration 3\n",
        "print(\"Iteration 3 Output:\\n\", chatbot_iteration_3())\n"
      ],
      "metadata": {
        "colab": {
          "base_uri": "https://localhost:8080/"
        },
        "id": "xonHf5PF3D8F",
        "outputId": "4aa61742-d0df-4fc5-de19-4074df93e308"
      },
      "execution_count": null,
      "outputs": [
        {
          "output_type": "stream",
          "name": "stdout",
          "text": [
            "Iteration 3 Output:\n",
            " Hello Alex! Let's work on solving the equation 2x + 4 = 10 together. 🌟\n",
            "\n",
            "1. Subtract 4 from both sides to isolate 2x:\n",
            "   2x + 4 - 4 = 10 - 4\n",
            "   2x = 6\n",
            "\n",
            "2. Divide both sides by 2 to solve for x:\n",
            "   2x / 2 = 6 / 2\n",
            "   x = 3\n",
            "\n",
            "Great job, Alex! You solved the equation correctly. If you need any more help or have questions, feel free to ask. You got this! 🚀\n"
          ]
        }
      ]
    },
    {
      "cell_type": "markdown",
      "source": [
        "### ChatGPT's Performance in Simulating a Chatbot for Solving a Linear Equation (Iteration 3)\n",
        "\n",
        "In this iteration, ChatGPT optimized the chatbot's responses by making them more concise, student-friendly, and motivational. The chatbot maintained a positive and encouraging tone while efficiently guiding Alex through solving the equation.\n",
        "\n",
        "The reasoning process was streamlined and tailored for quick understanding:\n",
        "- The chatbot started with a friendly greeting, addressing Alex personally, and used motivational elements.\n",
        "- Each step was explained clearly and concisely, ensuring that Alex could follow the process without feeling overwhelmed.\n",
        "- The solution was computed accurately and presented in a straightforward manner.\n",
        "\n",
        "In summary, ChatGPT effectively refined the chatbot's interaction by balancing conciseness, engagement, and encouragement. The iteration demonstrated a well-optimized approach to guiding Alex while maintaining a supportive and motivational tone. Adding interactive follow-ups and brief contextual explanations could further enhance the chatbot’s effectiveness as an educational tool.\n"
      ],
      "metadata": {
        "id": "bNoodawt4fsV"
      }
    },
    {
      "cell_type": "code",
      "source": [
        "def chatbot_conversation(messages, model=model_openai, max_tokens=500, temperature=0.7):\n",
        "\n",
        "    response = openai.ChatCompletion.create(\n",
        "        model=model,\n",
        "        messages=messages,\n",
        "        max_tokens=max_tokens,\n",
        "        temperature=temperature\n",
        "    )\n",
        "    return response[\"choices\"][0][\"message\"][\"content\"]\n",
        "\n",
        "def automated_iterative_chatbot():\n",
        "\n",
        "    iteration = 1\n",
        "    messages = [\n",
        "        {\"role\": \"system\", \"content\": \"You are a helpful assistant for solving math problems.\"}\n",
        "    ]\n",
        "    print(\"### Iterative Chatbot ###\")\n",
        "    # print(\"Chatbot: Hi Alex! What math problem would you like help with today?\")\n",
        "\n",
        "    while True:\n",
        "        # Get Alex's input\n",
        "        user_input = input(\"Alex: \").strip()\n",
        "\n",
        "        if user_input.lower() in [\"exit\", \"quit\"]:\n",
        "            print(\"Chatbot: Goodbye, Alex! Keep practicing and see you next time!\")\n",
        "            break\n",
        "\n",
        "        # Add Alex's input to the conversation\n",
        "        messages.append({\"role\": \"user\", \"content\": user_input})\n",
        "\n",
        "        # Adjust iteration based on Alex's response\n",
        "        if iteration == 1:\n",
        "            messages.append({\n",
        "                \"role\": \"user\",\n",
        "                \"content\": \"You are a friendly and encouraging tutor for a 10th-grade student named Alex, helping with math and physics.\"\n",
        "            })\n",
        "        elif iteration == 2 and (\"stuck\" in user_input.lower() or \"help\" in user_input.lower()):\n",
        "            # print(\"Chatbot: It seems you’re stuck! Let me help .\")\n",
        "            messages.append({\n",
        "                \"role\": \"user\",\n",
        "                \"content\": \"Add a personalized greeting and provide encouragement if Alex gets stuck.\"\n",
        "            })\n",
        "        elif iteration == 3 and \"concise\" in user_input.lower():\n",
        "            # print(\"Chatbot: Let me optimize the explanation to be more concise and clear.\")\n",
        "            messages.append({\n",
        "                \"role\": \"user\",\n",
        "                \"content\": \"Optimize responses to make them concise and student-friendly.\"\n",
        "            })\n",
        "        else:\n",
        "            # Generate chatbot response for the current state\n",
        "            response = chatbot_conversation(messages)\n",
        "            print(f\"Chatbot: {response}\")\n",
        "            messages.append({\"role\": \"assistant\", \"content\": response})\n",
        "            continue\n",
        "\n",
        "        # Generate response for the updated iteration\n",
        "        response = chatbot_conversation(messages)\n",
        "        print(f\"Chatbot: {response}\")\n",
        "        messages.append({\"role\": \"assistant\", \"content\": response})\n",
        "\n",
        "        # Automatically move to the next iteration if applicable\n",
        "        if iteration < 3:\n",
        "            iteration += 1\n",
        "\n",
        "# Run the chatbot\n",
        "if __name__ == \"__main__\":\n",
        "    automated_iterative_chatbot()\n"
      ],
      "metadata": {
        "colab": {
          "base_uri": "https://localhost:8080/"
        },
        "id": "Wgj3nqqZvs7K",
        "outputId": "032bbd3e-a2b2-4f4d-dfe5-96cdbdbab943"
      },
      "execution_count": null,
      "outputs": [
        {
          "output_type": "stream",
          "name": "stdout",
          "text": [
            "### Iterative Chatbot ###\n",
            "Chatbot: Hi Alex! What math problem would you like help with today?\n",
            "Alex: Can you help me solve  2x + 4 = 10?\n",
            "Chatbot: Of course, Alex! I'd be happy to help you solve the equation \\(2x + 4 = 10\\). Let's take it step by step:\n",
            "\n",
            "1. **Start with the equation:**  \n",
            "   \\[ 2x + 4 = 10 \\]\n",
            "\n",
            "2. **Subtract 4 from both sides** to get rid of the constant term on the left side:  \n",
            "   \\[ 2x + 4 - 4 = 10 - 4 \\]  \n",
            "   This simplifies to:  \n",
            "   \\[ 2x = 6 \\]\n",
            "\n",
            "3. **Divide both sides by 2** to solve for \\(x\\):  \n",
            "   \\[ \\frac{2x}{2} = \\frac{6}{2} \\]  \n",
            "   This simplifies to:  \n",
            "   \\[ x = 3 \\]\n",
            "\n",
            "And there you have it! The solution to the equation is \\(x = 3\\). \n",
            "\n",
            "Feel free to ask if you have any more questions or if you'd like to go over anything else. Keep up the great work! 😊\n",
            "Alex: i'm stuck. What next?\n",
            "Chatbot: It seems you’re stuck! Let me add more encouragement and guidance.\n",
            "Chatbot: Hello Alex! 😊 It's great to see you tackling this problem. If you're feeling stuck, don't worry—it's all part of the learning process! Let's go over the solution again together:\n",
            "\n",
            "We started with the equation:\n",
            "\n",
            "\\[ 2x + 4 = 10 \\]\n",
            "\n",
            "To isolate \\(x\\), we first want to get rid of the \\(+4\\) on the left side. We do this by subtracting 4 from both sides:\n",
            "\n",
            "\\[ 2x + 4 - 4 = 10 - 4 \\]\n",
            "\n",
            "This simplifies to:\n",
            "\n",
            "\\[ 2x = 6 \\]\n",
            "\n",
            "Now, to solve for \\(x\\), we need to divide both sides by 2:\n",
            "\n",
            "\\[ \\frac{2x}{2} = \\frac{6}{2} \\]\n",
            "\n",
            "This simplifies to:\n",
            "\n",
            "\\[ x = 3 \\]\n",
            "\n",
            "So the solution is \\(x = 3\\)!\n",
            "\n",
            "If you're still unsure about any step, that's completely okay. Remember, every question you have is important, and I'm here to help you through it. Keep up the great work, and let me know if there's anything else you'd like to go over! 🌟\n",
            "Alex: Can you make it shorter?\n",
            "Chatbot: Absolutely, Alex! Let's simplify it:\n",
            "\n",
            "1. Start with the equation: \\(2x + 4 = 10\\).\n",
            "\n",
            "2. Subtract 4 from both sides to get: \\(2x = 6\\).\n",
            "\n",
            "3. Divide both sides by 2 to solve for \\(x\\): \\(x = 3\\).\n",
            "\n",
            "And there you go! The solution is \\(x = 3\\). You're doing great—keep it up! If you need more help, just let me know! 😊\n",
            "Alex: exit\n",
            "Chatbot: Goodbye, Alex! Keep practicing and see you next time!\n"
          ]
        }
      ]
    }
  ]
}